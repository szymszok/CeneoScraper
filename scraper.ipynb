{
 "cells": [
  {
   "cell_type": "markdown",
   "metadata": {},
   "source": [
    "### Import bibliotek"
   ]
  },
  {
   "cell_type": "code",
   "execution_count": 1,
   "metadata": {},
   "outputs": [],
   "source": [
    "import os\n",
    "import json\n",
    "import requests\n",
    "from bs4 import BeautifulSoup\n"
   ]
  },
  {
   "cell_type": "markdown",
   "metadata": {},
   "source": [
    "### Narzędzia"
   ]
  },
  {
   "cell_type": "code",
   "execution_count": 2,
   "metadata": {},
   "outputs": [],
   "source": [
    "def extract(ancestor, selector, attribute=None, many=False):\n",
    "    if selector:\n",
    "        if many:\n",
    "            if attribute:\n",
    "                return [item[attribute].strip() for item in ancestor.select(selector)]\n",
    "            return [item.text.strip() for item in ancestor.select(selector)]\n",
    "        if attribute:\n",
    "            try:\n",
    "                return  ancestor.select_one(selector)[attribute].strip()\n",
    "            except TypeError:\n",
    "                return None\n",
    "        try:   \n",
    "            return  ancestor.select_one(selector).text.strip()\n",
    "        except AttributeError:\n",
    "            return None\n",
    "    if attribute:\n",
    "        try:\n",
    "            return ancestor[attribute]\n",
    "        except TypeError:\n",
    "            return None\n",
    "    return ancestor.text.strip()"
   ]
  },
  {
   "cell_type": "markdown",
   "metadata": {},
   "source": [
    "### Pobieranie ze strony ceneo.pl opinii o konkretnym produkcie"
   ]
  },
  {
   "cell_type": "code",
   "execution_count": 3,
   "metadata": {},
   "outputs": [],
   "source": [
    "with open(\"./headers.json\", \"r\") as jf:\n",
    "    headers = json.load(jf)\n"
   ]
  },
  {
   "cell_type": "code",
   "execution_count": 4,
   "metadata": {},
   "outputs": [],
   "source": [
    "review_scheme = {\n",
    "    \"review_id\": (None, \"data-entry-id\"),\n",
    "    \"author\": (\"span.user-post__author-name\",),\n",
    "    \"recomendation\": (\"span.user-post__author-recomendation > em\",),\n",
    "    \"stars\": (\"span.user-post__score-count\",),\n",
    "    \"content\": (\"div.user-post__text\",),\n",
    "    \"pros\": (\"div.review-feature__item--positive\", None, True),\n",
    "    \"cons\": (\"div.review-feature__item--negative\", None, True),\n",
    "    \"likes\": (\"button.vote-yes > span\",),\n",
    "    \"dislikes\": (\"button.vote-no > span\",),\n",
    "    \"publish_date\": (\"span.user-post__published > time:nth-child(1)\", 'datetime'),\n",
    "    \"purchase_date\": (\"span.user-post__published > time:nth-child(2)\", 'datetime'),\n",
    "    }"
   ]
  },
  {
   "cell_type": "code",
   "execution_count": null,
   "metadata": {},
   "outputs": [],
   "source": [
    "product_id = input(\"Podaj kod produktu\")\n",
    "next_page = f\"https://www.ceneo.pl/{product_id}#tab=reviews\"\n",
    "all_reviews = []\n",
    "while next_page:\n",
    "    response = requests.get(next_page, headers=headers)\n",
    "    print(next_page)\n",
    "    if response.status_code == 200:\n",
    "        page_dom = BeautifulSoup(response.text, 'html.parser')\n",
    "        reviews = page_dom.select(\"div.js_product-review:not(.user-post--highlight)\")\n",
    "        print(len(reviews))\n",
    "        for review in reviews:\n",
    "            single_review = {\n",
    "                key: extract(review, *value)\n",
    "                for key, value in review_scheme.items()\n",
    "            }\n",
    "            all_reviews.append(single_review)\n",
    "        try:\n",
    "            next_page = \"https://www.ceneo.pl\"+extract(page_dom, \"a.pagination__next\", \"href\")\n",
    "        except TypeError:\n",
    "            next_page = None\n",
    "print(all_reviews)\n",
    "        "
   ]
  },
  {
   "cell_type": "markdown",
   "metadata": {},
   "source": [
    "### Zapisanie wszystkich opinii o konkretnym produkcie w bazie danych"
   ]
  },
  {
   "cell_type": "code",
   "execution_count": 13,
   "metadata": {},
   "outputs": [],
   "source": [
    "if not os.path.exists(\"./opinions\"):\n",
    "    os.mkdir(\"./opinions\")"
   ]
  },
  {
   "cell_type": "code",
   "execution_count": 14,
   "metadata": {},
   "outputs": [],
   "source": [
    "with open(f\"./opinions/{product_id}.json\", \"w\", encoding=\"UTF-8\") as jf:\n",
    "    json.dump(all_reviews, jf, indent=4, ensure_ascii=False)"
   ]
  }
 ],
 "metadata": {
  "kernelspec": {
   "display_name": ".venv",
   "language": "python",
   "name": "python3"
  },
  "language_info": {
   "codemirror_mode": {
    "name": "ipython",
    "version": 3
   },
   "file_extension": ".py",
   "mimetype": "text/x-python",
   "name": "python",
   "nbconvert_exporter": "python",
   "pygments_lexer": "ipython3",
   "version": "3.11.4"
  }
 },
 "nbformat": 4,
 "nbformat_minor": 2
}
