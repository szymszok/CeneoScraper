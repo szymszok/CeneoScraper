{
 "cells": [
  {
   "cell_type": "markdown",
   "metadata": {},
   "source": [
    "### Import bibliotek"
   ]
  },
  {
   "cell_type": "code",
   "execution_count": 46,
   "metadata": {},
   "outputs": [],
   "source": [
    "import requests\n",
    "from bs4 import BeautifulSoup\n"
   ]
  },
  {
   "cell_type": "markdown",
   "metadata": {},
   "source": [
    "### Wysłanie żądania dostepu do strony z opiniami o produkcie "
   ]
  },
  {
   "cell_type": "code",
   "execution_count": 47,
   "metadata": {},
   "outputs": [
    {
     "data": {
      "text/plain": [
       "200"
      ]
     },
     "execution_count": 47,
     "metadata": {},
     "output_type": "execute_result"
    }
   ],
   "source": [
    "url = \"https://www.ceneo.pl/84514582#\"\n",
    "response = requests.get(url)\n",
    "response.status_code"
   ]
  },
  {
   "cell_type": "markdown",
   "metadata": {},
   "source": [
    "### Jeśli operacja zakończy się sukcesem i otrzymamy kod strony, wyodrębniamy z kodu strony fragmenty odpowiadające poszczególnym opisom"
   ]
  },
  {
   "cell_type": "code",
   "execution_count": 48,
   "metadata": {},
   "outputs": [],
   "source": [
    "if response.status_code == 200:\n",
    "    page_dom = BeautifulSoup(response.text, 'html.parser')\n",
    "    opinions = page_dom.select(\"div.js_product-review:not(.user-post--highlight)\")\n",
    "    \n",
    "    "
   ]
  },
  {
   "cell_type": "markdown",
   "metadata": {},
   "source": [
    "### Dla każdej z opinii wydobycie kodu HTML poszczególnych składowych i zapisanie ich w postaci złożonych struktur danych"
   ]
  },
  {
   "cell_type": "code",
   "execution_count": null,
   "metadata": {},
   "outputs": [],
   "source": [
    "for opinion in opinions:\n",
    "    try:\n",
    "        single_opinion = {\n",
    "            \"review_id\": opinion['data-entry-id'],\n",
    "            \"author\": opinion.select_one(\"span.user-post__author-name\").text.strip(),\n",
    "            \"recomendation\": opinion.select_one(\"span.user-post__author-recomendation > em\").text.strip(),\n",
    "            \"stars\": opinion.select_one(\"span.user-post__score-count\").text.strip(),\n",
    "            \"content\": opinion.select_one(\"div.user-post__text\").text.strip(),\n",
    "            \"pros\": [p.text.strip() for p in opinion.select(\"div.review-feature__item--positive\")],\n",
    "            \"cons\": [c.text.strip() for c in opinion.select(\"div.review-feature__item--negative\")],\n",
    "            \"likes\": opinion.select_one(\"button.vote-yes > span\").text.strip(),\n",
    "            \"dislikes\": opinion.select_one(\"button.vote-no > span\").text.strip(),\n",
    "            \"publish_date\": opinion.select_one(\"span.user-post__published > time:nth-child(1)\")['datetime'].strip(),\n",
    "            \"purchase_date\": opinion.select_one(\"span.user-post__published > time:nth-child(2)\")['datetime'].strip(),\n",
    "        }\n",
    "        print(single_opinion)\n",
    "    except (AttributeError, TypeError):\n",
    "        pass"
   ]
  }
 ],
 "metadata": {
  "kernelspec": {
   "display_name": ".venv",
   "language": "python",
   "name": "python3"
  },
  "language_info": {
   "codemirror_mode": {
    "name": "ipython",
    "version": 3
   },
   "file_extension": ".py",
   "mimetype": "text/x-python",
   "name": "python",
   "nbconvert_exporter": "python",
   "pygments_lexer": "ipython3",
   "version": "3.11.4"
  }
 },
 "nbformat": 4,
 "nbformat_minor": 2
}
