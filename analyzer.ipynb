{
 "cells": [
  {
   "cell_type": "code",
   "execution_count": 30,
   "metadata": {},
   "outputs": [],
   "source": [
    "import os\n",
    "import pandas as pd\n",
    "import numpy as np\n",
    "from matplotlib import pyplot as plp\n",
    "\n",
    "\n"
   ]
  },
  {
   "cell_type": "markdown",
   "metadata": {},
   "source": [
    "### Wczytanie i przygotowanie danych "
   ]
  },
  {
   "cell_type": "code",
   "execution_count": null,
   "metadata": {},
   "outputs": [],
   "source": [
    "# wyświetlenie listy kodów produktów z pobranymi opiniami\n",
    "print(*[filename.removesuffix(\".json\") for filename in os.listdir('./opinions')], sep=\"\\n\")"
   ]
  },
  {
   "cell_type": "code",
   "execution_count": null,
   "metadata": {},
   "outputs": [],
   "source": [
    "# wczytanie danych z pliku .json do obiektu przypominającego tabelę\n",
    "product_id = input(\"Podaj kod produktu\")\n",
    "reviews = pd.read_json(f\"./opinions/{product_id}.json\")\n",
    "reviews"
   ]
  },
  {
   "cell_type": "code",
   "execution_count": 17,
   "metadata": {},
   "outputs": [],
   "source": [
    "# transformacja danych \n",
    "try:\n",
    "    reviews.stars = reviews.stars.apply(lambda s: s.split(\"/\")[0].replace(\",\", \".\")).astype(float)\n",
    "except AttributeError:\n",
    "    pass\n",
    "reviews.likes = reviews.likes.astype(int)\n",
    "reviews.dislikes = reviews.dislikes.astype(int)\n"
   ]
  },
  {
   "cell_type": "markdown",
   "metadata": {},
   "source": [
    "### Podstawowe statystyki "
   ]
  },
  {
   "cell_type": "code",
   "execution_count": null,
   "metadata": {},
   "outputs": [],
   "source": [
    "reviews_count = reviews.shape[0]\n",
    "pros_count = reviews.pros.astype(bool).sum()\n",
    "cons_count = reviews.cons.astype(bool).sum()\n",
    "pros_cons_count = reviews.apply(lambda r: bool(r.pros) and bool(r.cons), axis=1).sum()\n",
    "average_stars = round(reviews.stars.mean())\n",
    "\n",
    "print(f'Liczba opinii o produkcie: {reviews_count}')\n",
    "print(f'Liczba opinii przy których podana zostłała liczba zalet: {pros_count}')\n",
    "print(f'Liczba opinii przy których podana zostłała liczba wad: {cons_count}')\n",
    "print(f'Liczba opinii przy których podana zostłała liczba zalet i wad: {pros_cons_count}')\n",
    "print(f'Średnia liczba gwiazdek dla produktu: {average_stars}')"
   ]
  },
  {
   "cell_type": "code",
   "execution_count": 28,
   "metadata": {},
   "outputs": [],
   "source": [
    "pros = reviews.pros.explode().value_counts()\n",
    "cons = reviews.cons.explode().value_counts()\n"
   ]
  },
  {
   "cell_type": "markdown",
   "metadata": {},
   "source": [
    "### Wykresy"
   ]
  },
  {
   "cell_type": "code",
   "execution_count": null,
   "metadata": {},
   "outputs": [],
   "source": [
    "recommendation = reviews.recomendation.value_counts(dropna=False).reindex(['Nie polecam', 'Polecam', None], fill_value=0)\n",
    "recommendation"
   ]
  },
  {
   "cell_type": "code",
   "execution_count": null,
   "metadata": {},
   "outputs": [],
   "source": [
    "recommendation.plot.pie(\n",
    "    label = '',\n",
    "    labels = ['Nie polecam', 'Polecam', 'Nie mam zdania'],\n",
    "    colors = ['crimson', 'forestgreen', 'khaki'],\n",
    "    autopct= lambda x: f'{x:1.2f}%' if x > 0 else ''\n",
    ")"
   ]
  }
 ],
 "metadata": {
  "kernelspec": {
   "display_name": ".venv",
   "language": "python",
   "name": "python3"
  },
  "language_info": {
   "codemirror_mode": {
    "name": "ipython",
    "version": 3
   },
   "file_extension": ".py",
   "mimetype": "text/x-python",
   "name": "python",
   "nbconvert_exporter": "python",
   "pygments_lexer": "ipython3",
   "version": "3.11.4"
  }
 },
 "nbformat": 4,
 "nbformat_minor": 2
}
